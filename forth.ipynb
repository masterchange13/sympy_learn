{
 "cells": [
  {
   "cell_type": "code",
   "execution_count": 1,
   "metadata": {},
   "outputs": [],
   "source": [
    "import sympy as sp"
   ]
  },
  {
   "cell_type": "markdown",
   "metadata": {},
   "source": [
    "微积分操作"
   ]
  },
  {
   "cell_type": "markdown",
   "metadata": {},
   "source": [
    "diff操作可以求偏导"
   ]
  },
  {
   "cell_type": "code",
   "execution_count": 3,
   "metadata": {},
   "outputs": [
    {
     "data": {
      "text/latex": [
       "$\\displaystyle x^{2} + 2 x y + y^{2}$"
      ],
      "text/plain": [
       "x**2 + 2*x*y + y**2"
      ]
     },
     "execution_count": 3,
     "metadata": {},
     "output_type": "execute_result"
    }
   ],
   "source": [
    "f = 'x**2 + 2*x*y + y**2'\n",
    "f = sp.sympify(f)\n",
    "f"
   ]
  },
  {
   "cell_type": "code",
   "execution_count": 4,
   "metadata": {},
   "outputs": [
    {
     "data": {
      "text/latex": [
       "$\\displaystyle 2 x + 2 y$"
      ],
      "text/plain": [
       "2*x + 2*y"
      ]
     },
     "execution_count": 4,
     "metadata": {},
     "output_type": "execute_result"
    }
   ],
   "source": [
    "sp.diff(f, 'x')"
   ]
  },
  {
   "cell_type": "code",
   "execution_count": 5,
   "metadata": {},
   "outputs": [
    {
     "data": {
      "text/latex": [
       "$\\displaystyle 2 x + 2 y$"
      ],
      "text/plain": [
       "2*x + 2*y"
      ]
     },
     "execution_count": 5,
     "metadata": {},
     "output_type": "execute_result"
    }
   ],
   "source": [
    "sp.diff(f, 'y')"
   ]
  },
  {
   "cell_type": "markdown",
   "metadata": {},
   "source": [
    "还可以对函数进行连续求导"
   ]
  },
  {
   "cell_type": "code",
   "execution_count": 7,
   "metadata": {},
   "outputs": [
    {
     "data": {
      "text/latex": [
       "$\\displaystyle 2$"
      ],
      "text/plain": [
       "2"
      ]
     },
     "execution_count": 7,
     "metadata": {},
     "output_type": "execute_result"
    }
   ],
   "source": [
    "sp.diff(f, 'x', 2)"
   ]
  },
  {
   "cell_type": "code",
   "execution_count": 8,
   "metadata": {},
   "outputs": [
    {
     "data": {
      "text/latex": [
       "$\\displaystyle 0$"
      ],
      "text/plain": [
       "0"
      ]
     },
     "execution_count": 8,
     "metadata": {},
     "output_type": "execute_result"
    }
   ],
   "source": [
    "sp.diff(f, 'x', 3)"
   ]
  },
  {
   "cell_type": "markdown",
   "metadata": {},
   "source": [
    "积分操作, integrate"
   ]
  },
  {
   "cell_type": "markdown",
   "metadata": {},
   "source": [
    "不定积分，直接送入积分的对象\n",
    "定积分，还需要送入积分的区间"
   ]
  },
  {
   "cell_type": "code",
   "execution_count": 9,
   "metadata": {},
   "outputs": [
    {
     "data": {
      "text/latex": [
       "$\\displaystyle x^{2} + 2 x y + y^{2}$"
      ],
      "text/plain": [
       "x**2 + 2*x*y + y**2"
      ]
     },
     "execution_count": 9,
     "metadata": {},
     "output_type": "execute_result"
    }
   ],
   "source": [
    "f"
   ]
  },
  {
   "cell_type": "code",
   "execution_count": 11,
   "metadata": {},
   "outputs": [
    {
     "ename": "ValueError",
     "evalue": "Invalid limits given: ('x',)",
     "output_type": "error",
     "traceback": [
      "\u001b[1;31m---------------------------------------------------------------------------\u001b[0m",
      "\u001b[1;31mValueError\u001b[0m                                Traceback (most recent call last)",
      "Cell \u001b[1;32mIn[11], line 2\u001b[0m\n\u001b[0;32m      1\u001b[0m \u001b[38;5;66;03m# 错误方式\u001b[39;00m\n\u001b[1;32m----> 2\u001b[0m sp\u001b[38;5;241m.\u001b[39mintegrate(f, \u001b[38;5;124m'\u001b[39m\u001b[38;5;124mx\u001b[39m\u001b[38;5;124m'\u001b[39m)\n",
      "File \u001b[1;32md:\\download\\anaconda\\Lib\\site-packages\\sympy\\integrals\\integrals.py:1564\u001b[0m, in \u001b[0;36mintegrate\u001b[1;34m(meijerg, conds, risch, heurisch, manual, *args, **kwargs)\u001b[0m\n\u001b[0;32m   1400\u001b[0m \u001b[38;5;250m\u001b[39m\u001b[38;5;124;03m\"\"\"integrate(f, var, ...)\u001b[39;00m\n\u001b[0;32m   1401\u001b[0m \n\u001b[0;32m   1402\u001b[0m \u001b[38;5;124;03m.. deprecated:: 1.6\u001b[39;00m\n\u001b[1;32m   (...)\u001b[0m\n\u001b[0;32m   1554\u001b[0m \n\u001b[0;32m   1555\u001b[0m \u001b[38;5;124;03m\"\"\"\u001b[39;00m\n\u001b[0;32m   1556\u001b[0m doit_flags \u001b[38;5;241m=\u001b[39m {\n\u001b[0;32m   1557\u001b[0m     \u001b[38;5;124m'\u001b[39m\u001b[38;5;124mdeep\u001b[39m\u001b[38;5;124m'\u001b[39m: \u001b[38;5;28;01mFalse\u001b[39;00m,\n\u001b[0;32m   1558\u001b[0m     \u001b[38;5;124m'\u001b[39m\u001b[38;5;124mmeijerg\u001b[39m\u001b[38;5;124m'\u001b[39m: meijerg,\n\u001b[1;32m   (...)\u001b[0m\n\u001b[0;32m   1562\u001b[0m     \u001b[38;5;124m'\u001b[39m\u001b[38;5;124mmanual\u001b[39m\u001b[38;5;124m'\u001b[39m: manual\n\u001b[0;32m   1563\u001b[0m     }\n\u001b[1;32m-> 1564\u001b[0m integral \u001b[38;5;241m=\u001b[39m Integral(\u001b[38;5;241m*\u001b[39margs, \u001b[38;5;241m*\u001b[39m\u001b[38;5;241m*\u001b[39mkwargs)\n\u001b[0;32m   1566\u001b[0m \u001b[38;5;28;01mif\u001b[39;00m \u001b[38;5;28misinstance\u001b[39m(integral, Integral):\n\u001b[0;32m   1567\u001b[0m     \u001b[38;5;28;01mreturn\u001b[39;00m integral\u001b[38;5;241m.\u001b[39mdoit(\u001b[38;5;241m*\u001b[39m\u001b[38;5;241m*\u001b[39mdoit_flags)\n",
      "File \u001b[1;32md:\\download\\anaconda\\Lib\\site-packages\\sympy\\integrals\\integrals.py:96\u001b[0m, in \u001b[0;36mIntegral.__new__\u001b[1;34m(cls, function, *symbols, **assumptions)\u001b[0m\n\u001b[0;32m     86\u001b[0m \u001b[38;5;28;01mif\u001b[39;00m \u001b[38;5;28misinstance\u001b[39m(function, Poly):\n\u001b[0;32m     87\u001b[0m     sympy_deprecation_warning(\n\u001b[0;32m     88\u001b[0m \u001b[38;5;250m        \u001b[39m\u001b[38;5;124;03m\"\"\"\u001b[39;00m\n\u001b[0;32m     89\u001b[0m \u001b[38;5;124;03m        integrate(Poly) and Integral(Poly) are deprecated. Instead,\u001b[39;00m\n\u001b[1;32m   (...)\u001b[0m\n\u001b[0;32m     93\u001b[0m         deprecated_since_version\u001b[38;5;241m=\u001b[39m\u001b[38;5;124m\"\u001b[39m\u001b[38;5;124m1.6\u001b[39m\u001b[38;5;124m\"\u001b[39m,\n\u001b[0;32m     94\u001b[0m         active_deprecations_target\u001b[38;5;241m=\u001b[39m\u001b[38;5;124m\"\u001b[39m\u001b[38;5;124mdeprecated-integrate-poly\u001b[39m\u001b[38;5;124m\"\u001b[39m)\n\u001b[1;32m---> 96\u001b[0m obj \u001b[38;5;241m=\u001b[39m AddWithLimits\u001b[38;5;241m.\u001b[39m\u001b[38;5;21m__new__\u001b[39m(\u001b[38;5;28mcls\u001b[39m, function, \u001b[38;5;241m*\u001b[39msymbols, \u001b[38;5;241m*\u001b[39m\u001b[38;5;241m*\u001b[39massumptions)\n\u001b[0;32m     97\u001b[0m \u001b[38;5;28;01mreturn\u001b[39;00m obj\n",
      "File \u001b[1;32md:\\download\\anaconda\\Lib\\site-packages\\sympy\\concrete\\expr_with_limits.py:547\u001b[0m, in \u001b[0;36mAddWithLimits.__new__\u001b[1;34m(cls, function, *symbols, **assumptions)\u001b[0m\n\u001b[0;32m    545\u001b[0m \u001b[38;5;28;01mdef\u001b[39;00m \u001b[38;5;21m__new__\u001b[39m(\u001b[38;5;28mcls\u001b[39m, function, \u001b[38;5;241m*\u001b[39msymbols, \u001b[38;5;241m*\u001b[39m\u001b[38;5;241m*\u001b[39massumptions):\n\u001b[0;32m    546\u001b[0m     \u001b[38;5;28;01mfrom\u001b[39;00m \u001b[38;5;21;01msympy\u001b[39;00m\u001b[38;5;21;01m.\u001b[39;00m\u001b[38;5;21;01mconcrete\u001b[39;00m\u001b[38;5;21;01m.\u001b[39;00m\u001b[38;5;21;01msummations\u001b[39;00m \u001b[38;5;28;01mimport\u001b[39;00m Sum\n\u001b[1;32m--> 547\u001b[0m     pre \u001b[38;5;241m=\u001b[39m _common_new(\u001b[38;5;28mcls\u001b[39m, function, \u001b[38;5;241m*\u001b[39msymbols,\n\u001b[0;32m    548\u001b[0m         discrete\u001b[38;5;241m=\u001b[39m\u001b[38;5;28missubclass\u001b[39m(\u001b[38;5;28mcls\u001b[39m, Sum), \u001b[38;5;241m*\u001b[39m\u001b[38;5;241m*\u001b[39massumptions)\n\u001b[0;32m    549\u001b[0m     \u001b[38;5;28;01mif\u001b[39;00m \u001b[38;5;28misinstance\u001b[39m(pre, \u001b[38;5;28mtuple\u001b[39m):\n\u001b[0;32m    550\u001b[0m         function, limits, orientation \u001b[38;5;241m=\u001b[39m pre\n",
      "File \u001b[1;32md:\\download\\anaconda\\Lib\\site-packages\\sympy\\concrete\\expr_with_limits.py:57\u001b[0m, in \u001b[0;36m_common_new\u001b[1;34m(cls, function, discrete, *symbols, **assumptions)\u001b[0m\n\u001b[0;32m     54\u001b[0m     \u001b[38;5;28;01mreturn\u001b[39;00m S\u001b[38;5;241m.\u001b[39mNaN\n\u001b[0;32m     56\u001b[0m \u001b[38;5;28;01mif\u001b[39;00m symbols:\n\u001b[1;32m---> 57\u001b[0m     limits, orientation \u001b[38;5;241m=\u001b[39m _process_limits(\u001b[38;5;241m*\u001b[39msymbols, discrete\u001b[38;5;241m=\u001b[39mdiscrete)\n\u001b[0;32m     58\u001b[0m     \u001b[38;5;28;01mfor\u001b[39;00m i, li \u001b[38;5;129;01min\u001b[39;00m \u001b[38;5;28menumerate\u001b[39m(limits):\n\u001b[0;32m     59\u001b[0m         \u001b[38;5;28;01mif\u001b[39;00m \u001b[38;5;28mlen\u001b[39m(li) \u001b[38;5;241m==\u001b[39m \u001b[38;5;241m4\u001b[39m:\n",
      "File \u001b[1;32md:\\download\\anaconda\\Lib\\site-packages\\sympy\\concrete\\expr_with_limits.py:194\u001b[0m, in \u001b[0;36m_process_limits\u001b[1;34m(discrete, *symbols)\u001b[0m\n\u001b[0;32m    191\u001b[0m                     limits\u001b[38;5;241m.\u001b[39mappend(Tuple(newsymbol, V[\u001b[38;5;241m1\u001b[39m]))\n\u001b[0;32m    192\u001b[0m                     \u001b[38;5;28;01mcontinue\u001b[39;00m\n\u001b[1;32m--> 194\u001b[0m     \u001b[38;5;28;01mraise\u001b[39;00m \u001b[38;5;167;01mValueError\u001b[39;00m(\u001b[38;5;124m'\u001b[39m\u001b[38;5;124mInvalid limits given: \u001b[39m\u001b[38;5;132;01m%s\u001b[39;00m\u001b[38;5;124m'\u001b[39m \u001b[38;5;241m%\u001b[39m \u001b[38;5;28mstr\u001b[39m(symbols))\n\u001b[0;32m    196\u001b[0m \u001b[38;5;28;01mreturn\u001b[39;00m limits, orientation\n",
      "\u001b[1;31mValueError\u001b[0m: Invalid limits given: ('x',)"
     ]
    }
   ],
   "source": [
    "# 错误方式\n",
    "sp.integrate(f, 'x')"
   ]
  },
  {
   "cell_type": "code",
   "execution_count": 12,
   "metadata": {},
   "outputs": [
    {
     "data": {
      "text/latex": [
       "$\\displaystyle x^{2} + 2 x y + y^{2}$"
      ],
      "text/plain": [
       "x**2 + 2*x*y + y**2"
      ]
     },
     "execution_count": 12,
     "metadata": {},
     "output_type": "execute_result"
    }
   ],
   "source": [
    "x, y = sp.symbols('x y')\n",
    "f"
   ]
  },
  {
   "cell_type": "markdown",
   "metadata": {},
   "source": [
    "不定积分"
   ]
  },
  {
   "cell_type": "code",
   "execution_count": 13,
   "metadata": {},
   "outputs": [
    {
     "data": {
      "text/latex": [
       "$\\displaystyle \\frac{x^{3}}{3} + x^{2} y + x y^{2}$"
      ],
      "text/plain": [
       "x**3/3 + x**2*y + x*y**2"
      ]
     },
     "execution_count": 13,
     "metadata": {},
     "output_type": "execute_result"
    }
   ],
   "source": [
    "sp.integrate(f, x)"
   ]
  },
  {
   "cell_type": "markdown",
   "metadata": {},
   "source": [
    "定积分"
   ]
  },
  {
   "cell_type": "code",
   "execution_count": 14,
   "metadata": {},
   "outputs": [
    {
     "data": {
      "text/latex": [
       "$\\displaystyle y^{2} + y + \\frac{1}{3}$"
      ],
      "text/plain": [
       "y**2 + y + 1/3"
      ]
     },
     "execution_count": 14,
     "metadata": {},
     "output_type": "execute_result"
    }
   ],
   "source": [
    "sp.integrate(f, (x, 0, 1))"
   ]
  },
  {
   "cell_type": "markdown",
   "metadata": {},
   "source": [
    "无穷区间oo"
   ]
  },
  {
   "cell_type": "code",
   "execution_count": 17,
   "metadata": {},
   "outputs": [
    {
     "data": {
      "text/latex": [
       "$\\displaystyle \\infty$"
      ],
      "text/plain": [
       "oo"
      ]
     },
     "execution_count": 17,
     "metadata": {},
     "output_type": "execute_result"
    }
   ],
   "source": [
    "sp.integrate(f, (x, 0, sp.oo))"
   ]
  },
  {
   "cell_type": "markdown",
   "metadata": {},
   "source": [
    "可以对其他的元素同时积分，如对x和y同时积分\n",
    "sp.integrate(f, (x, 0, 1), (y, 0, 1))\n",
    "符号计算\n",
    "sp.solve(sp.Eq(x**2 + y**2, 1))\n",
    "sp.solve(sp.Eq(x**2 + y**2, 1), (x, 0, 1))\n",
    "sp.solve(sp.Eq(x**2 + y**2, 1), (y, 0, 1))"
   ]
  },
  {
   "cell_type": "code",
   "execution_count": 18,
   "metadata": {},
   "outputs": [
    {
     "data": {
      "text/latex": [
       "$\\displaystyle \\frac{7}{6}$"
      ],
      "text/plain": [
       "7/6"
      ]
     },
     "execution_count": 18,
     "metadata": {},
     "output_type": "execute_result"
    }
   ],
   "source": [
    "sp.integrate(f, (x, 0, 1), (y, 0, 1))"
   ]
  },
  {
   "cell_type": "code",
   "execution_count": null,
   "metadata": {},
   "outputs": [],
   "source": []
  }
 ],
 "metadata": {
  "kernelspec": {
   "display_name": "base",
   "language": "python",
   "name": "python3"
  },
  "language_info": {
   "codemirror_mode": {
    "name": "ipython",
    "version": 3
   },
   "file_extension": ".py",
   "mimetype": "text/x-python",
   "name": "python",
   "nbconvert_exporter": "python",
   "pygments_lexer": "ipython3",
   "version": "3.11.3"
  }
 },
 "nbformat": 4,
 "nbformat_minor": 2
}
